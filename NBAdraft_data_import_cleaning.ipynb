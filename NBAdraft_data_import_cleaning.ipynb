{
 "cells": [
  {
   "cell_type": "markdown",
   "metadata": {},
   "source": [
    "# Initial Data Gathering and Cleaning\n",
    "\n",
    "#### Web Scraper Documentation: https://medium.com/hardwood-convergence/intro-to-virtual-environments-and-scraping-nba-data-with-beautifulsoup-6ce745f8c26e"
   ]
  },
  {
   "cell_type": "code",
   "execution_count": 17,
   "metadata": {},
   "outputs": [],
   "source": [
    "import pandas as pd\n",
    "from bs4 import BeautifulSoup\n",
    "import requests"
   ]
  },
  {
   "cell_type": "markdown",
   "metadata": {},
   "source": [
    "#### Initialize first year of draft data to be captured"
   ]
  },
  {
   "cell_type": "code",
   "execution_count": 18,
   "metadata": {},
   "outputs": [],
   "source": [
    "year_one = '1980'"
   ]
  },
  {
   "cell_type": "markdown",
   "metadata": {},
   "source": [
    "#### Web Scraper using BeautifulSoup for first year"
   ]
  },
  {
   "cell_type": "code",
   "execution_count": 19,
   "metadata": {},
   "outputs": [],
   "source": [
    "url = 'https://www.basketball-reference.com/draft/NBA_' + year_one +'.html'\n",
    "r = requests.get(url)\n",
    "html_doc = r.text\n",
    "soup = BeautifulSoup(html_doc, features= 'html.parser')\n",
    "b_text = soup.get_text()\n",
    "headers = [th.getText() for th in soup.findAll('tr', limit=2)[1].findAll('th')]\n",
    "headers = headers[1:]\n",
    "headers[13:17] = ['MPG','PPG','RPG','APG']\n",
    "rows = soup.findAll('tr')[2:]\n",
    "player_stats = [[td.getText() for td in rows[i].findAll('td')]\n",
    "            for i in range(len(rows))]\n",
    "df = pd.DataFrame(player_stats, columns = headers)\n",
    "df = df.dropna(subset= ['Pk','Tm'])\t\n",
    "\n",
    "dy = []\n",
    "for x in range(len(df)):\n",
    "\tdy.append(year_one)\n",
    "df['Draft'] = dy"
   ]
  },
  {
   "cell_type": "markdown",
   "metadata": {},
   "source": [
    "#### Web Scraper to iterate through all subsequent draft years"
   ]
  },
  {
   "cell_type": "code",
   "execution_count": 20,
   "metadata": {},
   "outputs": [],
   "source": [
    "for x in range(1981,2011):\n",
    "\turl1 = 'https://www.basketball-reference.com/draft/NBA_' + str(x) + '.html'\n",
    "\tr1 = requests.get(url1)\n",
    "\thtml_doc1 = r1.text\n",
    "\tsoup1 = BeautifulSoup(html_doc1, features= 'html.parser')\n",
    "\tb_text1 = soup1.get_text()\n",
    "\theaders1 = [th.getText() for th in soup1.findAll('tr', limit=2)[1].findAll('th')]\n",
    "\theaders1 = headers1[1:]\n",
    "\theaders1[13:17] = ['MPG','PPG','RPG','APG']\n",
    "\trows1 = soup1.findAll('tr')[2:]\n",
    "\tplayer_stats1 = [[td.getText() for td in rows1[i].findAll('td')]\n",
    "            \tfor i in range(len(rows1))]\n",
    "\ttemp = pd.DataFrame(player_stats1, columns = headers1)\n",
    "\ttemp = temp.dropna(subset= ['Pk','Tm'])\n",
    "\tdy1 = []\n",
    "\tfor n in range(len(temp)):\n",
    "\t\tdy1.append(str(x))\n",
    "\ttemp['Draft'] = dy1\n",
    "\tdf = df.append(temp, ignore_index= True)"
   ]
  },
  {
   "cell_type": "markdown",
   "metadata": {},
   "source": [
    "#### Dataframe Info"
   ]
  },
  {
   "cell_type": "code",
   "execution_count": 21,
   "metadata": {},
   "outputs": [
    {
     "name": "stdout",
     "output_type": "stream",
     "text": [
      "<class 'pandas.core.frame.DataFrame'>\n",
      "RangeIndex: 2938 entries, 0 to 2937\n",
      "Data columns (total 22 columns):\n",
      " #   Column   Non-Null Count  Dtype \n",
      "---  ------   --------------  ----- \n",
      " 0   Pk       2938 non-null   object\n",
      " 1   Tm       2938 non-null   object\n",
      " 2   Player   2938 non-null   object\n",
      " 3   College  2938 non-null   object\n",
      " 4   Yrs      2938 non-null   object\n",
      " 5   G        2938 non-null   object\n",
      " 6   MP       2938 non-null   object\n",
      " 7   PTS      2938 non-null   object\n",
      " 8   TRB      2938 non-null   object\n",
      " 9   AST      2938 non-null   object\n",
      " 10  FG%      2938 non-null   object\n",
      " 11  3P%      2938 non-null   object\n",
      " 12  FT%      2938 non-null   object\n",
      " 13  MPG      2938 non-null   object\n",
      " 14  PPG      2938 non-null   object\n",
      " 15  RPG      2938 non-null   object\n",
      " 16  APG      2938 non-null   object\n",
      " 17  WS       2938 non-null   object\n",
      " 18  WS/48    2938 non-null   object\n",
      " 19  BPM      2938 non-null   object\n",
      " 20  VORP     2938 non-null   object\n",
      " 21  Draft    2938 non-null   object\n",
      "dtypes: object(22)\n",
      "memory usage: 505.1+ KB\n"
     ]
    }
   ],
   "source": [
    "df.info()"
   ]
  },
  {
   "cell_type": "markdown",
   "metadata": {},
   "source": [
    "#### Handling null values and converting data types"
   ]
  },
  {
   "cell_type": "code",
   "execution_count": 22,
   "metadata": {},
   "outputs": [],
   "source": [
    "for cat in headers:\n",
    "\tif cat not in ['Tm','Player','College']:\n",
    "\t\tdf[cat] = pd.to_numeric(df[cat], errors = 'coerce')\n",
    "\t\tdf[cat] = df[cat].fillna(0)"
   ]
  },
  {
   "cell_type": "markdown",
   "metadata": {},
   "source": [
    "#### Explore and adjust team names to account for location changes"
   ]
  },
  {
   "cell_type": "code",
   "execution_count": 23,
   "metadata": {},
   "outputs": [
    {
     "data": {
      "text/plain": [
       "CHI    134\n",
       "POR    134\n",
       "DAL    129\n",
       "PHO    127\n",
       "GSW    126\n",
       "PHI    125\n",
       "ATL    122\n",
       "SEA    116\n",
       "SAS    116\n",
       "IND    115\n",
       "MIL    114\n",
       "UTA    114\n",
       "CLE    114\n",
       "BOS    113\n",
       "DEN    112\n",
       "DET    111\n",
       "NJN    108\n",
       "NYK    103\n",
       "HOU     99\n",
       "WSB     99\n",
       "LAL     92\n",
       "LAC     77\n",
       "SAC     71\n",
       "MIN     54\n",
       "KCK     48\n",
       "MIA     48\n",
       "ORL     43\n",
       "SDC     30\n",
       "TOR     26\n",
       "WAS     26\n",
       "CHH     24\n",
       "MEM     21\n",
       "CHA     14\n",
       "VAN     13\n",
       "NOH      9\n",
       "OKC      6\n",
       "NOK      5\n",
       "Name: Tm, dtype: int64"
      ]
     },
     "execution_count": 23,
     "metadata": {},
     "output_type": "execute_result"
    }
   ],
   "source": [
    "df.Tm.value_counts()"
   ]
  },
  {
   "cell_type": "code",
   "execution_count": 24,
   "metadata": {},
   "outputs": [],
   "source": [
    "alt_teams = {'SEA':'OKC','VAN':'MEM','WSB':'WAS','CHH':'CHA','NOK':'NOH','NJN':'BKN','SDC':'LAC','KCK':'SAC'}\n",
    "df['Tm'] = df['Tm'].replace(alt_teams)"
   ]
  },
  {
   "cell_type": "code",
   "execution_count": 25,
   "metadata": {},
   "outputs": [],
   "source": [
    "df.to_csv('draftdata.csv', index=False, encoding= 'utf-8')"
   ]
  },
  {
   "cell_type": "code",
   "execution_count": null,
   "metadata": {},
   "outputs": [],
   "source": []
  }
 ],
 "metadata": {
  "kernelspec": {
   "display_name": "Python 3",
   "language": "python",
   "name": "python3"
  },
  "language_info": {
   "codemirror_mode": {
    "name": "ipython",
    "version": 3
   },
   "file_extension": ".py",
   "mimetype": "text/x-python",
   "name": "python",
   "nbconvert_exporter": "python",
   "pygments_lexer": "ipython3",
   "version": "3.8.5"
  }
 },
 "nbformat": 4,
 "nbformat_minor": 4
}
